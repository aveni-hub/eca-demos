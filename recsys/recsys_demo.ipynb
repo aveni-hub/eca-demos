{
 "cells": [
  {
   "cell_type": "code",
   "execution_count": 1,
   "id": "22831b36",
   "metadata": {},
   "outputs": [],
   "source": [
    "import time\n",
    "from pprint import pprint\n",
    "from tqdm import tqdm\n",
    "import openai\n",
    "\n",
    "#avenieca sdk imports\n",
    "from avenieca import Signal\n",
    "from avenieca.producers import Event\n",
    "from avenieca.api.model import *\n",
    "from avenieca.api.eca import ECA\n",
    "from avenieca.utils import hash\n",
    "\n",
    "#local file imports\n",
    "from config import *\n",
    "import utils as util\n",
    "\n",
    "load_dotenv()\n",
    "data_path = os.getenv(\"DATA_PATH\")\n",
    "url = '%s/events_estore.csv' % data_path\n",
    "\n",
    "def prettyprint(res, status=None):\n",
    "    try:\n",
    "        pprint(res.__dict__)\n",
    "    except:\n",
    "        print(res)\n",
    "    if status:\n",
    "        print(status)"
   ]
  },
  {
   "cell_type": "code",
   "execution_count": 2,
   "id": "0e08e333-c48d-4435-be0a-3b05631e6469",
   "metadata": {},
   "outputs": [],
   "source": [
    "import pandas as pd\n",
    "data = pd.read_csv(url)"
   ]
  },
  {
   "cell_type": "markdown",
   "id": "fa75b394-bf69-40e2-a8f8-b2a3a1baf6ad",
   "metadata": {},
   "source": [
    "### Write directly to the ECA database"
   ]
  },
  {
   "cell_type": "code",
   "execution_count": 3,
   "id": "336ec596-470f-4a89-b62e-f71cf5f60344",
   "metadata": {
    "scrolled": true
   },
   "outputs": [
    {
     "name": "stderr",
     "output_type": "stream",
     "text": [
      "100%|███████████████████████████████████████████████████████████████████████████████████████████████████████████████████████████████████████████████████████████████████████| 95/95 [00:06<00:00, 14.42it/s]\n"
     ]
    }
   ],
   "source": [
    "event = data['event'].values\n",
    "item = data['item'].values\n",
    "\n",
    "eca_server = os.getenv(\"ECA_SERVER\")\n",
    "eca_secret = os.getenv(\"ECA_SECRET\")\n",
    "openai.api_key = openai_key\n",
    "\n",
    "config = Config(uri=eca_server, username=username, password=password)\n",
    "eca = ECA(config=config)\n",
    "\n",
    "for i in tqdm(range(0, len(event))):\n",
    "    event_ess = util.create_ess_and_sequence(eca, event[i], eca_secret, event_twin_config, openai, True)\n",
    "    item_ess = util.create_ess_and_sequence(eca, item[i], eca_secret, item_twin_config, openai, True)\n",
    "\n",
    "    aggregate_in_twins = [\n",
    "        event_ess,\n",
    "        item_ess,\n",
    "    ]\n",
    "    aggregate_insert = ESSInsert(\n",
    "        module_id=aggregate_config.module_id,\n",
    "        state=[],\n",
    "        valence=0.0,\n",
    "    )\n",
    "    aggregate_insert = util.create_aggregate_from_ess(aggregate_in_twins, aggregate_insert)\n",
    "    util.search_insert_ess_and_sequence(eca, aggregate_insert)"
   ]
  },
  {
   "cell_type": "markdown",
   "id": "9f090671-0dd4-41f6-89f8-7d213eb83171",
   "metadata": {},
   "source": [
    "### Recommendations"
   ]
  },
  {
   "cell_type": "code",
   "execution_count": 13,
   "id": "f14fa96a-1666-424c-bf50-5f1b49548381",
   "metadata": {
    "scrolled": true
   },
   "outputs": [
    {
     "name": "stdout",
     "output_type": "stream",
     "text": [
      "{'created_at': '2023-05-31T10:25:43.384438Z',\n",
      " 'hash': 'XLOCS/nYnaSjdvLqFi9ZRdqklPT043K2RZ+TgPjSUkY=',\n",
      " 'id': 2,\n",
      " 'input': 'addtocart',\n",
      " 'module_id': 'recsys_event',\n",
      " 'updated_at': '2023-05-31T10:25:43.384438Z'}\n",
      "200\n"
     ]
    }
   ],
   "source": [
    "event = \"addtocart\"\n",
    "input_hash = hash.encode(event, eca_secret)\n",
    "emb_inp, status = eca.embedding.get_one_with_hash(module_id=event_twin_config.module_id, data=EmbeddingInputHash(\n",
    "    hash=input_hash\n",
    "))\n",
    "prettyprint(emb_inp, status)"
   ]
  },
  {
   "cell_type": "code",
   "execution_count": 14,
   "id": "dc0d978b-d911-45fc-a308-4584c89546a4",
   "metadata": {},
   "outputs": [
    {
     "name": "stdout",
     "output_type": "stream",
     "text": [
      "2\n"
     ]
    }
   ],
   "source": [
    "res, status = eca.ess.get_one_with_embedding(module_id=event_twin_config.module_id, emb_input=emb_inp.id)\n",
    "prettyprint(res.id)\n",
    "event_ess: ESSResponse = res"
   ]
  },
  {
   "cell_type": "code",
   "execution_count": 6,
   "id": "087beb97-ce36-41a5-b809-6a01e8477724",
   "metadata": {},
   "outputs": [
    {
     "data": {
      "text/plain": [
       "62"
      ]
     },
     "execution_count": 6,
     "metadata": {},
     "output_type": "execute_result"
    }
   ],
   "source": [
    "item = \"GOLF PARTY DECORATIONS Happy Birthday Giant Banner with Stickers\"\n",
    "item_ess = util.create_ess_and_sequence(eca, item, eca_secret, item_twin_config, openai, True)\n",
    "item_ess.id"
   ]
  },
  {
   "cell_type": "code",
   "execution_count": 7,
   "id": "b04d6a74-14fa-4942-8786-9d873b40368e",
   "metadata": {},
   "outputs": [
    {
     "name": "stdout",
     "output_type": "stream",
     "text": [
      "{'aggregate_context': [],\n",
      " 'aggregate_emb_inp': [],\n",
      " 'aggregate_id': [],\n",
      " 'aggregate_module_id': [],\n",
      " 'aggregate_score': [],\n",
      " 'aggregate_shape': [],\n",
      " 'aggregate_valence': [],\n",
      " 'avg_ess_score': 0,\n",
      " 'avg_ess_valence': 0.0,\n",
      " 'context': None,\n",
      " 'created_at': '2023-05-31 12:06:03.581235 UTC',\n",
      " 'embedding_input': None,\n",
      " 'id': 62,\n",
      " 'module_id': 'recsys_item',\n",
      " 'score': 0,\n",
      " 'state': None,\n",
      " 'state_float': None,\n",
      " 'state_str': 'GOLF PARTY DECORATIONS Happy Birthday Giant Banner with '\n",
      "              'Stickers',\n",
      " 'total_ess_score': 0,\n",
      " 'updated_at': '2023-05-31 12:06:03.581235 UTC',\n",
      " 'valence': 50.0}\n"
     ]
    }
   ],
   "source": [
    "res, status = eca.ess.get_one_pretty(module_id=item_twin_config.module_id, db_id=62)\n",
    "prettyprint(res)"
   ]
  },
  {
   "cell_type": "code",
   "execution_count": 15,
   "id": "dedd40f6-03c9-4f72-9ec9-478be70668fc",
   "metadata": {},
   "outputs": [
    {
     "data": {
      "text/plain": [
       "83"
      ]
     },
     "execution_count": 15,
     "metadata": {},
     "output_type": "execute_result"
    }
   ],
   "source": [
    "aggregate_in_twins = [\n",
    "    event_ess,\n",
    "    item_ess,\n",
    "]\n",
    "aggregate_insert = ESSInsert(\n",
    "    module_id=aggregate_config.module_id,\n",
    "    state=[],\n",
    "    valence=0.0,\n",
    ")\n",
    "aggregate_insert = util.create_aggregate_from_ess(aggregate_in_twins, aggregate_insert)\n",
    "aggregate = util.search_insert_ess_and_sequence(eca, aggregate_insert)\n",
    "aggregate.id"
   ]
  },
  {
   "cell_type": "code",
   "execution_count": 16,
   "id": "96521499-dd3a-43fc-bf99-ffe57e071c9d",
   "metadata": {},
   "outputs": [
    {
     "name": "stdout",
     "output_type": "stream",
     "text": [
      "{'aggregate_context': [None, None],\n",
      " 'aggregate_emb_inp': [2, 62],\n",
      " 'aggregate_id': [2, 62],\n",
      " 'aggregate_module_id': ['recsys_event', 'recsys_item'],\n",
      " 'aggregate_score': [0, 0],\n",
      " 'aggregate_shape': [1536, 1536],\n",
      " 'aggregate_valence': [50.0, 50.0],\n",
      " 'avg_ess_score': 0,\n",
      " 'avg_ess_valence': 50.0,\n",
      " 'context': None,\n",
      " 'created_at': '2023-05-31 12:10:06.113701 UTC',\n",
      " 'embedding_input': None,\n",
      " 'id': 83,\n",
      " 'module_id': 'recsys_aggregate',\n",
      " 'score': 0,\n",
      " 'state': ['addtocart',\n",
      "           'GOLF PARTY DECORATIONS Happy Birthday Giant Banner with Stickers'],\n",
      " 'state_float': None,\n",
      " 'state_str': None,\n",
      " 'total_ess_score': 0,\n",
      " 'updated_at': '2023-05-31 12:10:06.113701 UTC',\n",
      " 'valence': 100.0}\n"
     ]
    }
   ],
   "source": [
    "res, status = eca.ess.get_one_pretty(module_id=aggregate_config.module_id, db_id=83)\n",
    "prettyprint(res)"
   ]
  },
  {
   "cell_type": "code",
   "execution_count": 18,
   "id": "fd06b8a2-85ff-4b9c-bcde-056c0cbb7303",
   "metadata": {},
   "outputs": [
    {
     "name": "stdout",
     "output_type": "stream",
     "text": [
      "{'current_state': [{'aggregate_id': 83,\n",
      "                    'ess_id': 2,\n",
      "                    'module_id': 'recsys_event',\n",
      "                    'state': 'addtocart'},\n",
      "                   {'aggregate_id': 83,\n",
      "                    'ess_id': 62,\n",
      "                    'module_id': 'recsys_item',\n",
      "                    'state': 'GOLF PARTY DECORATIONS Happy Birthday Giant '\n",
      "                             'Banner with Stickers'}],\n",
      " 'next_state': [{'list': [{'aggregate_id': 41,\n",
      "                           'ess_id': 2,\n",
      "                           'module_id': 'recsys_event',\n",
      "                           'state': 'addtocart'},\n",
      "                          {'aggregate_id': 41,\n",
      "                           'ess_id': 34,\n",
      "                           'module_id': 'recsys_item',\n",
      "                           'state': 'Gyro Flyer XL Green'}]},\n",
      "                {'list': [{'aggregate_id': 56,\n",
      "                           'ess_id': 2,\n",
      "                           'module_id': 'recsys_event',\n",
      "                           'state': 'addtocart'},\n",
      "                          {'aggregate_id': 56,\n",
      "                           'ess_id': 42,\n",
      "                           'module_id': 'recsys_item',\n",
      "                           'state': 'Playmobil - 4418 Recycling Truck'}]},\n",
      "                {'list': [{'aggregate_id': 2,\n",
      "                           'ess_id': 2,\n",
      "                           'module_id': 'recsys_event',\n",
      "                           'state': 'addtocart'},\n",
      "                          {'aggregate_id': 2,\n",
      "                           'ess_id': 2,\n",
      "                           'module_id': 'recsys_item',\n",
      "                           'state': \"Hornby Santa's Express Train Set\"}]},\n",
      "                {'list': [{'aggregate_id': 52,\n",
      "                           'ess_id': 2,\n",
      "                           'module_id': 'recsys_event',\n",
      "                           'state': 'addtocart'},\n",
      "                          {'aggregate_id': 52,\n",
      "                           'ess_id': 3,\n",
      "                           'module_id': 'recsys_item',\n",
      "                           'state': 'Hornby Gauge Railroad Mosley Tarmacadam '\n",
      "                                    'Locomotive'}]},\n",
      "                {'list': [{'aggregate_id': 2,\n",
      "                           'ess_id': 2,\n",
      "                           'module_id': 'recsys_event',\n",
      "                           'state': 'addtocart'},\n",
      "                          {'aggregate_id': 2,\n",
      "                           'ess_id': 2,\n",
      "                           'module_id': 'recsys_item',\n",
      "                           'state': \"Hornby Santa's Express Train Set\"}]}]}\n",
      "200\n"
     ]
    }
   ],
   "source": [
    "nsr = NextStateRequest(\n",
    "    module_id=aggregate_config.module_id,\n",
    "    recall=3,\n",
    "    range=2,\n",
    "    n=5,\n",
    "    status='n',\n",
    "    current_state=83,\n",
    "    previous_state=[60, 20]\n",
    ")\n",
    "res, status = eca.cortex.predictions(data=nsr)\n",
    "prettyprint(res, status)"
   ]
  }
 ],
 "metadata": {
  "kernelspec": {
   "display_name": "Python 3 (ipykernel)",
   "language": "python",
   "name": "python3"
  },
  "language_info": {
   "codemirror_mode": {
    "name": "ipython",
    "version": 3
   },
   "file_extension": ".py",
   "mimetype": "text/x-python",
   "name": "python",
   "nbconvert_exporter": "python",
   "pygments_lexer": "ipython3",
   "version": "3.8.16"
  }
 },
 "nbformat": 4,
 "nbformat_minor": 5
}
