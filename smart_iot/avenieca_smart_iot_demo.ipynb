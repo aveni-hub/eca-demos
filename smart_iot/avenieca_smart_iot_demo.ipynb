{
 "cells": [
  {
   "cell_type": "markdown",
   "id": "658d98fe",
   "metadata": {},
   "source": [
    " <img src=\"smart-building.drawio.png\" />\n"
   ]
  },
  {
   "cell_type": "code",
   "execution_count": 1,
   "id": "24192475",
   "metadata": {},
   "outputs": [],
   "source": [
    "import time\n",
    "from pprint import pprint\n",
    "from tqdm import tqdm\n",
    "\n",
    "#avenieca sdk imports\n",
    "from avenieca import Signal\n",
    "from avenieca.producers import Event\n",
    "from avenieca.api.model import *\n",
    "from avenieca.api.eca import ECA\n",
    "\n",
    "#local file imports\n",
    "from config import *\n",
    "from util import *\n",
    "\n",
    "def prettyprint(res, status):\n",
    "    try:\n",
    "        pprint(res.__dict__)\n",
    "    except:\n",
    "        print(res)\n",
    "    print(status)\n",
    "\n",
    "load_dotenv()\n",
    "data_path = os.getenv(\"DATA_PATH\")\n",
    "url = '%s/iot_data.csv' % data_path"
   ]
  },
  {
   "cell_type": "code",
   "execution_count": 2,
   "id": "22831b36",
   "metadata": {},
   "outputs": [],
   "source": [
    "import pandas as pd\n",
    "data = pd.read_csv(url)"
   ]
  },
  {
   "cell_type": "markdown",
   "id": "bcce86c9",
   "metadata": {},
   "source": [
    "### Stream to ECA Twins"
   ]
  },
  {
   "cell_type": "code",
   "execution_count": 3,
   "id": "d5cfac1a",
   "metadata": {},
   "outputs": [
    {
     "name": "stderr",
     "output_type": "stream",
     "text": [
      "100%|███████████████████████████████████████████████████████████████████████████████████████████████████████████████████████████████████████████████████████████████████████| 34/34 [00:35<00:00,  1.03s/it]\n"
     ]
    }
   ],
   "source": [
    "aqi_broker_config = aqi_twin_config.broker_config\n",
    "aqi_event = Event(config=aqi_broker_config)\n",
    "\n",
    "temperature_broker_config = temperature_twin_config.broker_config\n",
    "temperature_event = Event(config=temperature_broker_config)\n",
    "\n",
    "occupancy_broker_config = occupancy_twin_config.broker_config\n",
    "occupancy_event = Event(config=occupancy_broker_config)\n",
    "\n",
    "ac_broker_config = ac_twin_config.broker_config\n",
    "ac_event = Event(config=ac_broker_config)\n",
    "\n",
    "purifier_broker_config = purifier_twin_config.broker_config\n",
    "purifier_event = Event(config=purifier_broker_config)\n",
    "\n",
    "aqi_data = data[\"Air Quality Index\"].values\n",
    "temp_data = data[\"Temperature\"].values\n",
    "occupancy_data = data[\"Occupancy\"].values\n",
    "ac_data = data[\"Air Conditioner\"].values\n",
    "purifier_data = data[\"Purifier\"].values\n",
    "\n",
    "for i in tqdm(range(0, len(aqi_data))):\n",
    "    aqi_signal = Signal(\n",
    "        state=[float(aqi_data[i])]\n",
    "    )\n",
    "    \n",
    "    temp_signal = Signal(\n",
    "        state=[float(temp_data[i])]\n",
    "    )\n",
    "    \n",
    "    occupancy_signal = Signal(\n",
    "        state=[float(occupancy_data[i])]\n",
    "    )\n",
    "    ac_signal = Signal(\n",
    "        state=[float(ac_data[i])]\n",
    "    )\n",
    "    purifier_signal = Signal(\n",
    "        state=[float(purifier_data[i])]\n",
    "    )\n",
    "    \n",
    "    future = ac_event.publish(ac_signal)\n",
    "    _ = future.get(timeout=60)\n",
    "    \n",
    "    future = aqi_event.publish(aqi_signal)\n",
    "    _ = future.get(timeout=60)\n",
    "    \n",
    "    future = occupancy_event.publish(occupancy_signal)\n",
    "    _ = future.get(timeout=60)\n",
    "    \n",
    "    future = purifier_event.publish(purifier_signal)\n",
    "    _ = future.get(timeout=60)\n",
    "    \n",
    "    future = temperature_event.publish(temp_signal)\n",
    "    _ = future.get(timeout=60)\n",
    "    \n",
    "    time.sleep(1)\n"
   ]
  },
  {
   "cell_type": "markdown",
   "id": "fa744ccd",
   "metadata": {},
   "source": [
    "### Next state predictions for an ESS"
   ]
  },
  {
   "cell_type": "code",
   "execution_count": 4,
   "id": "74d25e94",
   "metadata": {},
   "outputs": [],
   "source": [
    "eca_server = os.getenv(\"ECA_SERVER\")\n",
    "\n",
    "config = Config(uri=eca_server, username=username, password=password)\n",
    "eca = ECA(config)\n"
   ]
  },
  {
   "cell_type": "code",
   "execution_count": 5,
   "id": "56d587e6-e0fc-4aa0-b622-bc025560f017",
   "metadata": {},
   "outputs": [
    {
     "name": "stdout",
     "output_type": "stream",
     "text": [
      "[SearchResult(score=0.0, ess=ESSResponse(id=5, state=[25.0], module_id='temperature', valence=-90.0, created_at='2023-05-31T13:42:14.404492Z', updated_at='2023-05-31T13:52:16.336662Z', avg_ess_valence=0.0, total_ess_score=0, avg_ess_score=0, score=2, embedding_input=None, aggregate_id=[], aggregate_valence=[], aggregate_score=[], aggregate_module_id=[], aggregate_shape=[], aggregate_context=[], aggregate_emb_inp=[], context=None))]\n",
      "200\n"
     ]
    }
   ],
   "source": [
    "res, status = eca.ess.search(data=Search(\n",
    "    module_id=\"temperature\",\n",
    "    state=[25.0],\n",
    "    limit=1\n",
    "))\n",
    "prettyprint(res, status)"
   ]
  },
  {
   "cell_type": "code",
   "execution_count": 7,
   "id": "97c2f69b-0114-4330-ac0d-a58eacec78fb",
   "metadata": {},
   "outputs": [
    {
     "name": "stdout",
     "output_type": "stream",
     "text": [
      "{'current_state': [{'aggregate_id': 0,\n",
      "                    'ess_id': 5,\n",
      "                    'module_id': 'temperature',\n",
      "                    'state': [25.0]}],\n",
      " 'next_state': [{'list': [{'aggregate_id': 0,\n",
      "                           'ess_id': 3,\n",
      "                           'module_id': 'temperature',\n",
      "                           'state': [24.0]}]},\n",
      "                {'list': [{'aggregate_id': 0,\n",
      "                           'ess_id': 4,\n",
      "                           'module_id': 'temperature',\n",
      "                           'state': [23.1]}]},\n",
      "                {'list': [{'aggregate_id': 0,\n",
      "                           'ess_id': 6,\n",
      "                           'module_id': 'temperature',\n",
      "                           'state': [23.0]}]}]}\n",
      "200\n"
     ]
    }
   ],
   "source": [
    "nsr = NextStateRequest(\n",
    "    module_id=\"temperature\",\n",
    "    recall=3,\n",
    "    range=2,\n",
    "    n=3,\n",
    "    status='n',\n",
    "    current_state=5,\n",
    "    previous_state=[4, 7]\n",
    ")\n",
    "res, status = eca.cortex.predictions_raw(data=nsr)\n",
    "prettyprint(res, status)"
   ]
  },
  {
   "cell_type": "markdown",
   "id": "cb6fdca7-cc47-4e16-ab34-d67095edeaa0",
   "metadata": {},
   "source": [
    "### Next state predictions for an Aggregate"
   ]
  },
  {
   "cell_type": "code",
   "execution_count": 10,
   "id": "8fad49d4-c999-4f06-a3b0-07f98b1a8ceb",
   "metadata": {},
   "outputs": [
    {
     "name": "stdout",
     "output_type": "stream",
     "text": [
      "[SearchResult(score=0.0, ess=ESSResponse(id=3, state=[2.0], module_id='purifier', valence=90.0, created_at='2023-05-31T13:42:14.619965Z', updated_at='2023-05-31T13:52:30.166527Z', avg_ess_valence=0.0, total_ess_score=0, avg_ess_score=0, score=13, embedding_input=None, aggregate_id=[], aggregate_valence=[], aggregate_score=[], aggregate_module_id=[], aggregate_shape=[], aggregate_context=[], aggregate_emb_inp=[], context=None))]\n",
      "200\n"
     ]
    }
   ],
   "source": [
    "res, status = eca.ess.search(data=Search(\n",
    "    module_id=\"purifier\",\n",
    "    state=[2.0],\n",
    "    limit=1\n",
    "))\n",
    "prettyprint(res, status)"
   ]
  },
  {
   "cell_type": "code",
   "execution_count": 11,
   "id": "305fc912",
   "metadata": {},
   "outputs": [],
   "source": [
    "ess_air_conditioner = ESSResponse(\n",
    "    id=5,\n",
    "    state=[25.0],\n",
    "    module_id='air_conditioner',\n",
    "    valence=90.0,\n",
    "    score=8,\n",
    ")\n",
    "ess_occupancy = ESSResponse(\n",
    "    id=7,\n",
    "    state=[10.0],\n",
    "    module_id='occupancy',\n",
    "    valence=-90.0,\n",
    "    score=3,\n",
    ")\n",
    "ess_purifier = ESSResponse(\n",
    "    id=3,\n",
    "    state=[2.0],\n",
    "    module_id='purifier',\n",
    "    valence=90.0,\n",
    "    score=13,\n",
    ")"
   ]
  },
  {
   "cell_type": "code",
   "execution_count": 13,
   "id": "cca5696e-3403-4f26-91d6-1a594e53a6f7",
   "metadata": {},
   "outputs": [
    {
     "name": "stdout",
     "output_type": "stream",
     "text": [
      "[SearchResult(score=1.0, ess=ESSResponse(id=2, state=[28.0], module_id='temperature', valence=-90.0, created_at='2023-05-31T13:42:14.357678Z', updated_at='2023-05-31T13:51:56.816676Z', avg_ess_valence=0.0, total_ess_score=0, avg_ess_score=0, score=1, embedding_input=None, aggregate_id=[], aggregate_valence=[], aggregate_score=[], aggregate_module_id=[], aggregate_shape=[], aggregate_context=[], aggregate_emb_inp=[], context=None))]\n",
      "200\n"
     ]
    }
   ],
   "source": [
    "res, status = eca.ess.search(data=Search(\n",
    "    module_id=\"temperature\",\n",
    "    state=[29.0],\n",
    "    limit=1\n",
    "))\n",
    "prettyprint(res, status)"
   ]
  },
  {
   "cell_type": "code",
   "execution_count": 14,
   "id": "4b995540-adb5-4234-aaaf-e649403bb647",
   "metadata": {},
   "outputs": [
    {
     "name": "stdout",
     "output_type": "stream",
     "text": [
      "{'aggregate_context': [],\n",
      " 'aggregate_emb_inp': [],\n",
      " 'aggregate_id': [],\n",
      " 'aggregate_module_id': [],\n",
      " 'aggregate_score': [],\n",
      " 'aggregate_shape': [],\n",
      " 'aggregate_valence': [],\n",
      " 'avg_ess_score': 0,\n",
      " 'avg_ess_valence': 0.0,\n",
      " 'context': None,\n",
      " 'created_at': '2023-05-31T14:00:46.240287Z',\n",
      " 'embedding_input': None,\n",
      " 'id': 18,\n",
      " 'module_id': 'air_quality_index',\n",
      " 'score': 1,\n",
      " 'state': [90.0],\n",
      " 'total_ess_score': 0,\n",
      " 'updated_at': '2023-05-31T14:00:46.240287Z',\n",
      " 'valence': -90.0}\n",
      "201\n",
      "{'aggregate_context': [],\n",
      " 'aggregate_emb_inp': [],\n",
      " 'aggregate_id': [],\n",
      " 'aggregate_module_id': [],\n",
      " 'aggregate_score': [],\n",
      " 'aggregate_shape': [],\n",
      " 'aggregate_valence': [],\n",
      " 'avg_ess_score': 0,\n",
      " 'avg_ess_valence': 0.0,\n",
      " 'context': None,\n",
      " 'created_at': '2023-05-31T14:00:46.268653Z',\n",
      " 'embedding_input': None,\n",
      " 'id': 13,\n",
      " 'module_id': 'temperature',\n",
      " 'score': 1,\n",
      " 'state': [29.0],\n",
      " 'total_ess_score': 0,\n",
      " 'updated_at': '2023-05-31T14:00:46.268653Z',\n",
      " 'valence': -90.0}\n",
      "201\n"
     ]
    }
   ],
   "source": [
    "ess_in = ESSInsert(\n",
    "    module_id=\"air_quality_index\",\n",
    "    state=[90.0],\n",
    "    valence=-90,\n",
    "    score=1,\n",
    "    context=None,\n",
    "    embedding_input=None\n",
    ")\n",
    "ess_air_quality_index, status = eca.ess.create(data=ess_in)\n",
    "prettyprint(ess_air_quality_index, status)\n",
    "\n",
    "ess_in = ESSInsert(\n",
    "    module_id=\"temperature\",\n",
    "    state=[29.0],\n",
    "    valence=-90,\n",
    "    score=1,\n",
    "    context=None,\n",
    "    embedding_input=None\n",
    ")\n",
    "ess_temperature, status = eca.ess.create(data=ess_in)\n",
    "prettyprint(ess_temperature, status)"
   ]
  },
  {
   "cell_type": "code",
   "execution_count": 15,
   "id": "a84eaaee-1d9a-4e71-a300-69dec6eeaf29",
   "metadata": {},
   "outputs": [
    {
     "name": "stdout",
     "output_type": "stream",
     "text": [
      "{'aggregate_context': [None, None, None, None, None],\n",
      " 'aggregate_emb_inp': [None, None, None, None, None],\n",
      " 'aggregate_id': [5, 18, 7, 3, 13],\n",
      " 'aggregate_module_id': ['air_conditioner',\n",
      "                         'air_quality_index',\n",
      "                         'occupancy',\n",
      "                         'purifier',\n",
      "                         'temperature'],\n",
      " 'aggregate_score': [8, 1, 3, 13, 1],\n",
      " 'aggregate_shape': [1, 1, 1, 1, 1],\n",
      " 'aggregate_valence': [90.0, -90.0, -90.0, 90.0, -90.0],\n",
      " 'avg_ess_score': 5,\n",
      " 'avg_ess_valence': -18.0,\n",
      " 'context': None,\n",
      " 'created_at': '2023-05-31T14:01:18.009593Z',\n",
      " 'embedding_input': None,\n",
      " 'id': 33,\n",
      " 'module_id': 'aggregate001',\n",
      " 'score': 0,\n",
      " 'state': [25.0, 90.0, 10.0, 2.0, 29.0],\n",
      " 'total_ess_score': 26,\n",
      " 'updated_at': '2023-05-31T14:01:18.009593Z',\n",
      " 'valence': -90.0}\n",
      "201\n"
     ]
    }
   ],
   "source": [
    "aggregate_insert = ESSInsert(\n",
    "    module_id=\"aggregate001\",\n",
    "    state=[],\n",
    "    valence=0.0, \n",
    ")\n",
    "agg_in = create_aggregate_from_ess(\n",
    "    [\n",
    "        ess_air_conditioner,\n",
    "        ess_air_quality_index,\n",
    "        ess_occupancy,\n",
    "        ess_purifier,\n",
    "        ess_temperature\n",
    "    ],\n",
    "    aggregate_insert)\n",
    "res, status = eca.ess.create(data=agg_in)\n",
    "prettyprint(res, status)"
   ]
  },
  {
   "cell_type": "code",
   "execution_count": 17,
   "id": "5f125572",
   "metadata": {},
   "outputs": [
    {
     "name": "stdout",
     "output_type": "stream",
     "text": [
      "{'current_state': [{'aggregate_id': 33,\n",
      "                    'ess_id': 5,\n",
      "                    'module_id': 'air_conditioner',\n",
      "                    'state': [25.0]},\n",
      "                   {'aggregate_id': 33,\n",
      "                    'ess_id': 18,\n",
      "                    'module_id': 'air_quality_index',\n",
      "                    'state': [90.0]},\n",
      "                   {'aggregate_id': 33,\n",
      "                    'ess_id': 7,\n",
      "                    'module_id': 'occupancy',\n",
      "                    'state': [10.0]},\n",
      "                   {'aggregate_id': 33,\n",
      "                    'ess_id': 3,\n",
      "                    'module_id': 'purifier',\n",
      "                    'state': [2.0]},\n",
      "                   {'aggregate_id': 33,\n",
      "                    'ess_id': 13,\n",
      "                    'module_id': 'temperature',\n",
      "                    'state': [29.0]}],\n",
      " 'next_state': [{'list': [{'aggregate_id': 6,\n",
      "                           'ess_id': 3,\n",
      "                           'module_id': 'air_conditioner',\n",
      "                           'state': [18.0]},\n",
      "                          {'aggregate_id': 6,\n",
      "                           'ess_id': 6,\n",
      "                           'module_id': 'air_quality_index',\n",
      "                           'state': [70.0]},\n",
      "                          {'aggregate_id': 6,\n",
      "                           'ess_id': 6,\n",
      "                           'module_id': 'occupancy',\n",
      "                           'state': [15.0]},\n",
      "                          {'aggregate_id': 6,\n",
      "                           'ess_id': 2,\n",
      "                           'module_id': 'purifier',\n",
      "                           'state': [1.0]},\n",
      "                          {'aggregate_id': 6,\n",
      "                           'ess_id': 5,\n",
      "                           'module_id': 'temperature',\n",
      "                           'state': [25.0]}]},\n",
      "                {'list': [{'aggregate_id': 7,\n",
      "                           'ess_id': 3,\n",
      "                           'module_id': 'air_conditioner',\n",
      "                           'state': [18.0]},\n",
      "                          {'aggregate_id': 7,\n",
      "                           'ess_id': 7,\n",
      "                           'module_id': 'air_quality_index',\n",
      "                           'state': [60.0]},\n",
      "                          {'aggregate_id': 7,\n",
      "                           'ess_id': 7,\n",
      "                           'module_id': 'occupancy',\n",
      "                           'state': [10.0]},\n",
      "                          {'aggregate_id': 7,\n",
      "                           'ess_id': 2,\n",
      "                           'module_id': 'purifier',\n",
      "                           'state': [1.0]},\n",
      "                          {'aggregate_id': 7,\n",
      "                           'ess_id': 6,\n",
      "                           'module_id': 'temperature',\n",
      "                           'state': [23.0]}]},\n",
      "                {'list': [{'aggregate_id': 8,\n",
      "                           'ess_id': 3,\n",
      "                           'module_id': 'air_conditioner',\n",
      "                           'state': [18.0]},\n",
      "                          {'aggregate_id': 8,\n",
      "                           'ess_id': 5,\n",
      "                           'module_id': 'air_quality_index',\n",
      "                           'state': [50.0]},\n",
      "                          {'aggregate_id': 8,\n",
      "                           'ess_id': 7,\n",
      "                           'module_id': 'occupancy',\n",
      "                           'state': [10.0]},\n",
      "                          {'aggregate_id': 8,\n",
      "                           'ess_id': 2,\n",
      "                           'module_id': 'purifier',\n",
      "                           'state': [1.0]},\n",
      "                          {'aggregate_id': 8,\n",
      "                           'ess_id': 7,\n",
      "                           'module_id': 'temperature',\n",
      "                           'state': [22.0]}]}]}\n",
      "200\n"
     ]
    }
   ],
   "source": [
    "nsr = NextStateRequest(\n",
    "    module_id=\"aggregate001\",\n",
    "    recall=3,\n",
    "    range=2,\n",
    "    n=3,\n",
    "    status='n',\n",
    "    current_state=33,\n",
    "    previous_state=[20, 25]\n",
    ")\n",
    "res, status = eca.cortex.predictions_raw(data=nsr)\n",
    "prettyprint(res, status)"
   ]
  },
  {
   "cell_type": "markdown",
   "id": "5efd1ef4",
   "metadata": {},
   "source": [
    "### Natural Language Retrieval"
   ]
  },
  {
   "cell_type": "code",
   "execution_count": 22,
   "id": "3bd2f5e8-526c-4bc6-8061-51ec448f0308",
   "metadata": {},
   "outputs": [
    {
     "name": "stdout",
     "output_type": "stream",
     "text": [
      "{'response': 'The temperature on May 31st at around 1:50 pm was 22 degrees '\n",
      "             'Celsius and the air quality index was 17.'}\n",
      "200\n"
     ]
    }
   ],
   "source": [
    "retrieval = RetrievalRequest(\n",
    "    query=\"what is the temperature and the air quality index on the 31st of may at around 1:50pm?\"\n",
    ")\n",
    "res, status = eca.retrieval.query(data=retrieval)\n",
    "prettyprint(res, status)"
   ]
  }
 ],
 "metadata": {
  "kernelspec": {
   "display_name": "Python 3 (ipykernel)",
   "language": "python",
   "name": "python3"
  },
  "language_info": {
   "codemirror_mode": {
    "name": "ipython",
    "version": 3
   },
   "file_extension": ".py",
   "mimetype": "text/x-python",
   "name": "python",
   "nbconvert_exporter": "python",
   "pygments_lexer": "ipython3",
   "version": "3.8.16"
  }
 },
 "nbformat": 4,
 "nbformat_minor": 5
}
